{
 "cells": [
  {
   "cell_type": "code",
   "execution_count": 76,
   "id": "43b2ae19",
   "metadata": {},
   "outputs": [],
   "source": [
    "import numpy as np\n",
    "import pandas as pd\n",
    "import matplotlib.pyplot as plt\n",
    "import scipy.stats as si\n",
    "import yfinance as yf\n",
    "import os"
   ]
  },
  {
   "cell_type": "markdown",
   "id": "da153b87",
   "metadata": {},
   "source": [
    "Implied volatility"
   ]
  },
  {
   "cell_type": "code",
   "execution_count": 77,
   "id": "d0e99f2e",
   "metadata": {
    "scrolled": true
   },
   "outputs": [
    {
     "name": "stdout",
     "output_type": "stream",
     "text": [
      "[*********************100%***********************]  1 of 1 completed\n"
     ]
    }
   ],
   "source": [
    "TSLA = yf.download(\"TSLA\", start=\"2021-12-01\", end=\"2022-12-01\")"
   ]
  },
  {
   "cell_type": "code",
   "execution_count": 80,
   "id": "951c4f06",
   "metadata": {},
   "outputs": [
    {
     "name": "stdout",
     "output_type": "stream",
     "text": [
      "[*********************100%***********************]  1 of 1 completed\n"
     ]
    }
   ],
   "source": [
    "data = yf.download(\"TSLA\", start=\"2021-12-01\", end=\"2022-12-01\")"
   ]
  },
  {
   "cell_type": "code",
   "execution_count": 81,
   "id": "6475b86a",
   "metadata": {},
   "outputs": [
    {
     "name": "stdout",
     "output_type": "stream",
     "text": [
      "The spot price is $ 1031.56 .\n"
     ]
    }
   ],
   "source": [
    "S = TSLA['Adj Close'][-1]\n",
    "print('The spot price is $', round(S,2), '.')"
   ]
  },
  {
   "cell_type": "code",
   "execution_count": 82,
   "id": "1c4a911d",
   "metadata": {},
   "outputs": [],
   "source": [
    "log_return = np.log(data['Adj Close'] / data['Adj Close'].shift(1))"
   ]
  },
  {
   "cell_type": "code",
   "execution_count": 83,
   "id": "3f96480c",
   "metadata": {},
   "outputs": [
    {
     "name": "stdout",
     "output_type": "stream",
     "text": [
      "The annualised volatility (one year sample size)is 71.4 %\n"
     ]
    }
   ],
   "source": [
    "vol = np.sqrt(252) * log_return.std()\n",
    "print('The annualised volatility (one year sample size)is', round(vol*100,2), '%')"
   ]
  },
  {
   "cell_type": "code",
   "execution_count": 84,
   "id": "4b05a43a",
   "metadata": {},
   "outputs": [],
   "source": [
    "log_return1 = np.log(data['Adj Close'][1:125] / data['Adj Close'][1:125].shift(1))"
   ]
  },
  {
   "cell_type": "code",
   "execution_count": 85,
   "id": "567d5bb0",
   "metadata": {},
   "outputs": [
    {
     "name": "stdout",
     "output_type": "stream",
     "text": [
      "The annualised volatility (1st six months) is 72.63 %\n"
     ]
    }
   ],
   "source": [
    "vol1 = np.sqrt(252) * log_return1.std()\n",
    "print('The annualised volatility (1st six months) is', round(vol1*100,2), '%')"
   ]
  },
  {
   "cell_type": "code",
   "execution_count": 86,
   "id": "0bc43131",
   "metadata": {},
   "outputs": [],
   "source": [
    "# Implied volaitilty for europe option "
   ]
  },
  {
   "cell_type": "code",
   "execution_count": 45,
   "id": "1740d53a",
   "metadata": {},
   "outputs": [],
   "source": [
    "def newton_vol_call(S, K, T, C, r):\n",
    "    \n",
    "    #S: spot price\n",
    "    #K: strike price\n",
    "    #T: time to maturity\n",
    "    #C: Call value\n",
    "    #r: risk free rate\n",
    "    #sigma: volatility of underlying asset\n",
    "   \n",
    "    MAX_ITERATIONS = 1000\n",
    "    tolerance = 0.000001\n",
    "    \n",
    "    sigma = 0.63\n",
    "    \n",
    "    for i in range(0, MAX_ITERATIONS):\n",
    "        d1 = (np.log(S / K) + (r + 0.5 * sigma ** 2) * T) / (sigma * np.sqrt(T))\n",
    "        d2 = (np.log(S / K) + (r - 0.5 * sigma ** 2) * T) / (sigma * np.sqrt(T))\n",
    "        price = S * si.norm.cdf(d1, 0.0, 1.0) - K * np.exp(-r * T) * si.norm.cdf(d2, 0.0, 1.0)\n",
    "        vega = S * np.sqrt(T) * si.norm.pdf(d1, 0.0, 1.0)\n",
    "\n",
    "        diff = C - price\n",
    "\n",
    "        if (abs(diff) < tolerance):\n",
    "            return sigma\n",
    "        else: \n",
    "            sigma = sigma + diff/vega\n",
    "        \n",
    "        # print(i,sigma,diff)\n",
    "        \n",
    "    return sigma"
   ]
  },
  {
   "cell_type": "code",
   "execution_count": 46,
   "id": "1aadfbf7",
   "metadata": {
    "scrolled": true
   },
   "outputs": [
    {
     "data": {
      "text/html": [
       "<div>\n",
       "<style scoped>\n",
       "    .dataframe tbody tr th:only-of-type {\n",
       "        vertical-align: middle;\n",
       "    }\n",
       "\n",
       "    .dataframe tbody tr th {\n",
       "        vertical-align: top;\n",
       "    }\n",
       "\n",
       "    .dataframe thead th {\n",
       "        text-align: right;\n",
       "    }\n",
       "</style>\n",
       "<table border=\"1\" class=\"dataframe\">\n",
       "  <thead>\n",
       "    <tr style=\"text-align: right;\">\n",
       "      <th></th>\n",
       "      <th>contractSymbol</th>\n",
       "      <th>lastTradeDate</th>\n",
       "      <th>strike</th>\n",
       "      <th>lastPrice</th>\n",
       "      <th>bid</th>\n",
       "      <th>ask</th>\n",
       "      <th>change</th>\n",
       "      <th>percentChange</th>\n",
       "      <th>volume</th>\n",
       "      <th>openInterest</th>\n",
       "      <th>impliedVolatility</th>\n",
       "      <th>inTheMoney</th>\n",
       "      <th>contractSize</th>\n",
       "      <th>currency</th>\n",
       "    </tr>\n",
       "  </thead>\n",
       "  <tbody>\n",
       "    <tr>\n",
       "      <th>0</th>\n",
       "      <td>TSLA220114C00200000</td>\n",
       "      <td>2022-01-13 16:03:04</td>\n",
       "      <td>200.0</td>\n",
       "      <td>872.22</td>\n",
       "      <td>835.25</td>\n",
       "      <td>837.40</td>\n",
       "      <td>14.429993</td>\n",
       "      <td>1.682229</td>\n",
       "      <td>2.0</td>\n",
       "      <td>10</td>\n",
       "      <td>13.036623</td>\n",
       "      <td>True</td>\n",
       "      <td>REGULAR</td>\n",
       "      <td>USD</td>\n",
       "    </tr>\n",
       "    <tr>\n",
       "      <th>1</th>\n",
       "      <td>TSLA220114C00300000</td>\n",
       "      <td>2021-12-28 15:31:10</td>\n",
       "      <td>300.0</td>\n",
       "      <td>791.65</td>\n",
       "      <td>735.00</td>\n",
       "      <td>738.15</td>\n",
       "      <td>0.000000</td>\n",
       "      <td>0.000000</td>\n",
       "      <td>NaN</td>\n",
       "      <td>1</td>\n",
       "      <td>9.961918</td>\n",
       "      <td>True</td>\n",
       "      <td>REGULAR</td>\n",
       "      <td>USD</td>\n",
       "    </tr>\n",
       "    <tr>\n",
       "      <th>2</th>\n",
       "      <td>TSLA220114C00400000</td>\n",
       "      <td>2022-01-07 15:30:46</td>\n",
       "      <td>400.0</td>\n",
       "      <td>649.95</td>\n",
       "      <td>635.25</td>\n",
       "      <td>638.40</td>\n",
       "      <td>0.000000</td>\n",
       "      <td>0.000000</td>\n",
       "      <td>2.0</td>\n",
       "      <td>4</td>\n",
       "      <td>7.847656</td>\n",
       "      <td>True</td>\n",
       "      <td>REGULAR</td>\n",
       "      <td>USD</td>\n",
       "    </tr>\n",
       "    <tr>\n",
       "      <th>3</th>\n",
       "      <td>TSLA220114C00410000</td>\n",
       "      <td>2022-01-06 15:31:22</td>\n",
       "      <td>410.0</td>\n",
       "      <td>641.30</td>\n",
       "      <td>618.30</td>\n",
       "      <td>626.95</td>\n",
       "      <td>0.000000</td>\n",
       "      <td>0.000000</td>\n",
       "      <td>NaN</td>\n",
       "      <td>1</td>\n",
       "      <td>6.633302</td>\n",
       "      <td>True</td>\n",
       "      <td>REGULAR</td>\n",
       "      <td>USD</td>\n",
       "    </tr>\n",
       "    <tr>\n",
       "      <th>4</th>\n",
       "      <td>TSLA220114C00430000</td>\n",
       "      <td>2022-01-03 18:45:49</td>\n",
       "      <td>430.0</td>\n",
       "      <td>749.90</td>\n",
       "      <td>604.25</td>\n",
       "      <td>606.95</td>\n",
       "      <td>0.000000</td>\n",
       "      <td>0.000000</td>\n",
       "      <td>NaN</td>\n",
       "      <td>2</td>\n",
       "      <td>7.057130</td>\n",
       "      <td>True</td>\n",
       "      <td>REGULAR</td>\n",
       "      <td>USD</td>\n",
       "    </tr>\n",
       "    <tr>\n",
       "      <th>...</th>\n",
       "      <td>...</td>\n",
       "      <td>...</td>\n",
       "      <td>...</td>\n",
       "      <td>...</td>\n",
       "      <td>...</td>\n",
       "      <td>...</td>\n",
       "      <td>...</td>\n",
       "      <td>...</td>\n",
       "      <td>...</td>\n",
       "      <td>...</td>\n",
       "      <td>...</td>\n",
       "      <td>...</td>\n",
       "      <td>...</td>\n",
       "      <td>...</td>\n",
       "    </tr>\n",
       "    <tr>\n",
       "      <th>183</th>\n",
       "      <td>TSLA220114C02200000</td>\n",
       "      <td>2022-01-11 18:29:40</td>\n",
       "      <td>2200.0</td>\n",
       "      <td>0.01</td>\n",
       "      <td>0.00</td>\n",
       "      <td>0.01</td>\n",
       "      <td>0.000000</td>\n",
       "      <td>0.000000</td>\n",
       "      <td>57.0</td>\n",
       "      <td>922</td>\n",
       "      <td>2.687503</td>\n",
       "      <td>False</td>\n",
       "      <td>REGULAR</td>\n",
       "      <td>USD</td>\n",
       "    </tr>\n",
       "    <tr>\n",
       "      <th>184</th>\n",
       "      <td>TSLA220114C02250000</td>\n",
       "      <td>2022-01-10 19:23:39</td>\n",
       "      <td>2250.0</td>\n",
       "      <td>0.01</td>\n",
       "      <td>0.00</td>\n",
       "      <td>0.01</td>\n",
       "      <td>0.000000</td>\n",
       "      <td>0.000000</td>\n",
       "      <td>57.0</td>\n",
       "      <td>258</td>\n",
       "      <td>2.750003</td>\n",
       "      <td>False</td>\n",
       "      <td>REGULAR</td>\n",
       "      <td>USD</td>\n",
       "    </tr>\n",
       "    <tr>\n",
       "      <th>185</th>\n",
       "      <td>TSLA220114C02300000</td>\n",
       "      <td>2022-01-11 18:54:26</td>\n",
       "      <td>2300.0</td>\n",
       "      <td>0.01</td>\n",
       "      <td>0.00</td>\n",
       "      <td>0.01</td>\n",
       "      <td>0.000000</td>\n",
       "      <td>0.000000</td>\n",
       "      <td>1.0</td>\n",
       "      <td>62</td>\n",
       "      <td>2.812503</td>\n",
       "      <td>False</td>\n",
       "      <td>REGULAR</td>\n",
       "      <td>USD</td>\n",
       "    </tr>\n",
       "    <tr>\n",
       "      <th>186</th>\n",
       "      <td>TSLA220114C02350000</td>\n",
       "      <td>2022-01-10 14:31:14</td>\n",
       "      <td>2350.0</td>\n",
       "      <td>0.01</td>\n",
       "      <td>0.00</td>\n",
       "      <td>0.01</td>\n",
       "      <td>0.000000</td>\n",
       "      <td>0.000000</td>\n",
       "      <td>2.0</td>\n",
       "      <td>15</td>\n",
       "      <td>2.937503</td>\n",
       "      <td>False</td>\n",
       "      <td>REGULAR</td>\n",
       "      <td>USD</td>\n",
       "    </tr>\n",
       "    <tr>\n",
       "      <th>187</th>\n",
       "      <td>TSLA220114C02400000</td>\n",
       "      <td>2022-01-13 20:03:28</td>\n",
       "      <td>2400.0</td>\n",
       "      <td>0.01</td>\n",
       "      <td>0.00</td>\n",
       "      <td>0.01</td>\n",
       "      <td>0.000000</td>\n",
       "      <td>0.000000</td>\n",
       "      <td>10.0</td>\n",
       "      <td>750</td>\n",
       "      <td>3.000002</td>\n",
       "      <td>False</td>\n",
       "      <td>REGULAR</td>\n",
       "      <td>USD</td>\n",
       "    </tr>\n",
       "  </tbody>\n",
       "</table>\n",
       "<p>188 rows × 14 columns</p>\n",
       "</div>"
      ],
      "text/plain": [
       "          contractSymbol       lastTradeDate  strike  lastPrice     bid  \\\n",
       "0    TSLA220114C00200000 2022-01-13 16:03:04   200.0     872.22  835.25   \n",
       "1    TSLA220114C00300000 2021-12-28 15:31:10   300.0     791.65  735.00   \n",
       "2    TSLA220114C00400000 2022-01-07 15:30:46   400.0     649.95  635.25   \n",
       "3    TSLA220114C00410000 2022-01-06 15:31:22   410.0     641.30  618.30   \n",
       "4    TSLA220114C00430000 2022-01-03 18:45:49   430.0     749.90  604.25   \n",
       "..                   ...                 ...     ...        ...     ...   \n",
       "183  TSLA220114C02200000 2022-01-11 18:29:40  2200.0       0.01    0.00   \n",
       "184  TSLA220114C02250000 2022-01-10 19:23:39  2250.0       0.01    0.00   \n",
       "185  TSLA220114C02300000 2022-01-11 18:54:26  2300.0       0.01    0.00   \n",
       "186  TSLA220114C02350000 2022-01-10 14:31:14  2350.0       0.01    0.00   \n",
       "187  TSLA220114C02400000 2022-01-13 20:03:28  2400.0       0.01    0.00   \n",
       "\n",
       "        ask     change  percentChange  volume  openInterest  \\\n",
       "0    837.40  14.429993       1.682229     2.0            10   \n",
       "1    738.15   0.000000       0.000000     NaN             1   \n",
       "2    638.40   0.000000       0.000000     2.0             4   \n",
       "3    626.95   0.000000       0.000000     NaN             1   \n",
       "4    606.95   0.000000       0.000000     NaN             2   \n",
       "..      ...        ...            ...     ...           ...   \n",
       "183    0.01   0.000000       0.000000    57.0           922   \n",
       "184    0.01   0.000000       0.000000    57.0           258   \n",
       "185    0.01   0.000000       0.000000     1.0            62   \n",
       "186    0.01   0.000000       0.000000     2.0            15   \n",
       "187    0.01   0.000000       0.000000    10.0           750   \n",
       "\n",
       "     impliedVolatility  inTheMoney contractSize currency  \n",
       "0            13.036623        True      REGULAR      USD  \n",
       "1             9.961918        True      REGULAR      USD  \n",
       "2             7.847656        True      REGULAR      USD  \n",
       "3             6.633302        True      REGULAR      USD  \n",
       "4             7.057130        True      REGULAR      USD  \n",
       "..                 ...         ...          ...      ...  \n",
       "183           2.687503       False      REGULAR      USD  \n",
       "184           2.750003       False      REGULAR      USD  \n",
       "185           2.812503       False      REGULAR      USD  \n",
       "186           2.937503       False      REGULAR      USD  \n",
       "187           3.000002       False      REGULAR      USD  \n",
       "\n",
       "[188 rows x 14 columns]"
      ]
     },
     "execution_count": 46,
     "metadata": {},
     "output_type": "execute_result"
    }
   ],
   "source": [
    "TESLA = yf.Ticker(\"TSLA\")\n",
    "opt = TESLA.option_chain('2022-01-14')\n",
    "opt.calls"
   ]
  },
  {
   "cell_type": "code",
   "execution_count": 51,
   "id": "f89c7fab",
   "metadata": {},
   "outputs": [
    {
     "name": "stdout",
     "output_type": "stream",
     "text": [
      "The implied volatility is 180.17 % for the one-month call with strike $ 800.00\n"
     ]
    }
   ],
   "source": [
    "impvol = newton_vol_call(S, 800.00, 1/42, float(opt.calls.lastPrice[opt.calls.strike == 800.00]), 0.01)\n",
    "print('The implied volatility is', round(impvol*100,2) , '% for the one-month call with strike $ 800.00' ) "
   ]
  },
  {
   "cell_type": "markdown",
   "id": "023edfdf",
   "metadata": {},
   "source": [
    "#Binomial Tree"
   ]
  },
  {
   "cell_type": "code",
   "execution_count": 36,
   "id": "6e630bfc",
   "metadata": {},
   "outputs": [],
   "source": [
    "import numpy as np\n",
    "import os"
   ]
  },
  {
   "cell_type": "code",
   "execution_count": 61,
   "id": "f100633f",
   "metadata": {},
   "outputs": [],
   "source": [
    "S0 = 40.0              # spot stock price\n",
    "K = 40.0               # strike\n",
    "T = 0.5                # maturity \n",
    "r = 0.1                 # risk free rate \n",
    "sig = 0.1               # diffusion coefficient or volatility\n",
    "N = 2                  # number of periods or number of time steps  \n",
    "payoff = \"call\"          # payoff "
   ]
  },
  {
   "cell_type": "code",
   "execution_count": 62,
   "id": "cfdeede1",
   "metadata": {},
   "outputs": [],
   "source": [
    "dT = float(T) / N                             # Delta t\n",
    "u = np.exp(sig * np.sqrt(dT))                 # up factor\n",
    "d = 1.0 / u                    "
   ]
  },
  {
   "cell_type": "code",
   "execution_count": 63,
   "id": "3bbbd490",
   "metadata": {},
   "outputs": [],
   "source": [
    "S = np.zeros((N + 1, N + 1))\n",
    "S[0, 0] = S0\n",
    "z = 1\n",
    "for t in range(1, N + 1):\n",
    "    for i in range(z):\n",
    "        S[i, t] = S[i, t-1] * u\n",
    "        S[i+1, t] = S[i, t-1] * d\n",
    "    z += 1"
   ]
  },
  {
   "cell_type": "code",
   "execution_count": 64,
   "id": "d5629915",
   "metadata": {},
   "outputs": [
    {
     "data": {
      "text/plain": [
       "array([[40.        , 42.05084386, 44.20683672],\n",
       "       [ 0.        , 38.04917698, 40.        ],\n",
       "       [ 0.        ,  0.        , 36.19349672]])"
      ]
     },
     "execution_count": 64,
     "metadata": {},
     "output_type": "execute_result"
    }
   ],
   "source": [
    "S"
   ]
  },
  {
   "cell_type": "code",
   "execution_count": 65,
   "id": "c48ce41b",
   "metadata": {},
   "outputs": [
    {
     "data": {
      "text/plain": [
       "0.7405483598480218"
      ]
     },
     "execution_count": 65,
     "metadata": {},
     "output_type": "execute_result"
    }
   ],
   "source": [
    "a = np.exp(r * dT)    # risk free compound return\n",
    "p = (a - d)/ (u - d)  # risk neutral up probability\n",
    "q = 1.0 - p           # risk neutral down probability\n",
    "p"
   ]
  },
  {
   "cell_type": "code",
   "execution_count": 66,
   "id": "4dc44080",
   "metadata": {},
   "outputs": [
    {
     "data": {
      "text/plain": [
       "array([[0.        , 0.        , 4.20683672],\n",
       "       [0.        , 0.        , 0.        ],\n",
       "       [0.        , 0.        , 0.        ]])"
      ]
     },
     "execution_count": 66,
     "metadata": {},
     "output_type": "execute_result"
    }
   ],
   "source": [
    "S_T = S[:,-1]\n",
    "V = np.zeros((N + 1, N + 1))\n",
    "if payoff ==\"call\":\n",
    "    V[:,-1] = np.maximum(S_T-K, 0.0)\n",
    "elif payoff ==\"put\":\n",
    "    V[:,-1] = np.maximum(K-S_T, 0.0)\n",
    "V"
   ]
  },
  {
   "cell_type": "code",
   "execution_count": 67,
   "id": "6fdf17f8",
   "metadata": {},
   "outputs": [
    {
     "data": {
      "text/plain": [
       "array([[2.19456163, 3.03844737, 4.20683672],\n",
       "       [0.        , 0.        , 0.        ],\n",
       "       [0.        , 0.        , 0.        ]])"
      ]
     },
     "execution_count": 67,
     "metadata": {},
     "output_type": "execute_result"
    }
   ],
   "source": [
    "# for European Option\n",
    "for j in range(N-1, -1, -1):\n",
    "    for i in range(j+1):\n",
    "        V[i,j] = np.exp(-r*dT) * (p * V[i,j + 1] + q * V[i + 1,j + 1])\n",
    "V"
   ]
  },
  {
   "cell_type": "code",
   "execution_count": 68,
   "id": "7e2c04f7",
   "metadata": {},
   "outputs": [
    {
     "name": "stdout",
     "output_type": "stream",
     "text": [
      "European call 2.19456162714245\n"
     ]
    }
   ],
   "source": [
    "print('European ' + payoff, str( V[0,0]))"
   ]
  },
  {
   "cell_type": "code",
   "execution_count": 69,
   "id": "a64ebac0",
   "metadata": {},
   "outputs": [
    {
     "data": {
      "text/plain": [
       "array([0. , 0.5, 1. , 1.5, 2. ])"
      ]
     },
     "execution_count": 69,
     "metadata": {},
     "output_type": "execute_result"
    }
   ],
   "source": [
    "import numpy as np\n",
    "a = np.array([0, 0.5, 1.0, 1.5, 2.0])\n",
    "a"
   ]
  },
  {
   "cell_type": "code",
   "execution_count": 87,
   "id": "7618fb79",
   "metadata": {},
   "outputs": [],
   "source": [
    "#Pandas"
   ]
  },
  {
   "cell_type": "code",
   "execution_count": 71,
   "id": "57eddaa7",
   "metadata": {},
   "outputs": [
    {
     "data": {
      "text/html": [
       "<div>\n",
       "<style scoped>\n",
       "    .dataframe tbody tr th:only-of-type {\n",
       "        vertical-align: middle;\n",
       "    }\n",
       "\n",
       "    .dataframe tbody tr th {\n",
       "        vertical-align: top;\n",
       "    }\n",
       "\n",
       "    .dataframe thead th {\n",
       "        text-align: right;\n",
       "    }\n",
       "</style>\n",
       "<table border=\"1\" class=\"dataframe\">\n",
       "  <thead>\n",
       "    <tr style=\"text-align: right;\">\n",
       "      <th></th>\n",
       "      <th>numbers</th>\n",
       "    </tr>\n",
       "  </thead>\n",
       "  <tbody>\n",
       "    <tr>\n",
       "      <th>a</th>\n",
       "      <td>20</td>\n",
       "    </tr>\n",
       "    <tr>\n",
       "      <th>b</th>\n",
       "      <td>40</td>\n",
       "    </tr>\n",
       "    <tr>\n",
       "      <th>c</th>\n",
       "      <td>17</td>\n",
       "    </tr>\n",
       "    <tr>\n",
       "      <th>d</th>\n",
       "      <td>32</td>\n",
       "    </tr>\n",
       "  </tbody>\n",
       "</table>\n",
       "</div>"
      ],
      "text/plain": [
       "   numbers\n",
       "a       20\n",
       "b       40\n",
       "c       17\n",
       "d       32"
      ]
     },
     "execution_count": 71,
     "metadata": {},
     "output_type": "execute_result"
    }
   ],
   "source": [
    "import pandas as pd\n",
    "df = pd.DataFrame([20, 40, 17, 32],\n",
    "                  columns=['numbers'],\n",
    "                  index=['a', 'b', 'c', 'd'])\n",
    "df"
   ]
  },
  {
   "cell_type": "code",
   "execution_count": null,
   "id": "63b39696",
   "metadata": {},
   "outputs": [],
   "source": []
  }
 ],
 "metadata": {
  "kernelspec": {
   "display_name": "Python 3",
   "language": "python",
   "name": "python3"
  },
  "language_info": {
   "codemirror_mode": {
    "name": "ipython",
    "version": 3
   },
   "file_extension": ".py",
   "mimetype": "text/x-python",
   "name": "python",
   "nbconvert_exporter": "python",
   "pygments_lexer": "ipython3",
   "version": "3.8.8"
  }
 },
 "nbformat": 4,
 "nbformat_minor": 5
}
